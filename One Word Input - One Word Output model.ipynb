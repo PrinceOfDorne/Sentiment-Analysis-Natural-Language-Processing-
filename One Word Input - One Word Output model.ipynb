{
 "cells": [
  {
   "cell_type": "code",
   "execution_count": 1,
   "metadata": {},
   "outputs": [],
   "source": [
    "raw_text = \"I made myself a snowball As perfect as could be.\\n I thought I'd keep it as a pet And let it sleep with me.\\n I made it some pajamas And a pillow for its head.\\n Then last night it ran away, But first it wet the bed.\""
   ]
  },
  {
   "cell_type": "code",
   "execution_count": 2,
   "metadata": {},
   "outputs": [],
   "source": [
    "tokens = raw_text.split()"
   ]
  },
  {
   "cell_type": "code",
   "execution_count": 3,
   "metadata": {},
   "outputs": [
    {
     "name": "stderr",
     "output_type": "stream",
     "text": [
      "Using TensorFlow backend.\n"
     ]
    }
   ],
   "source": [
    "from keras.preprocessing.text import Tokenizer"
   ]
  },
  {
   "cell_type": "code",
   "execution_count": 4,
   "metadata": {},
   "outputs": [],
   "source": [
    "tokenizer = Tokenizer()\n",
    "tokenizer.fit_on_texts([raw_text])"
   ]
  },
  {
   "cell_type": "code",
   "execution_count": 5,
   "metadata": {},
   "outputs": [],
   "source": [
    "encoded = tokenizer.texts_to_sequences([raw_text])[0]"
   ]
  },
  {
   "cell_type": "code",
   "execution_count": 6,
   "metadata": {},
   "outputs": [],
   "source": [
    "X = []\n",
    "y = []\n",
    "\n",
    "for i in range(len(encoded)-1):\n",
    "    X.append(encoded[i])\n",
    "    y.append(encoded[i+1])"
   ]
  },
  {
   "cell_type": "code",
   "execution_count": 7,
   "metadata": {},
   "outputs": [
    {
     "name": "stdout",
     "output_type": "stream",
     "text": [
      " Total Sequences: 46 \n"
     ]
    }
   ],
   "source": [
    "import numpy as np\n",
    "\n",
    "sequences = []\n",
    "for i in range(1, len(encoded)):\n",
    "    sequence = encoded[i-1:i+1]\n",
    "    sequences.append(sequence)\n",
    "print( ' Total Sequences: %d ' % len(sequences))\n",
    "# split into X and y elements\n",
    "sequences = np.array(sequences)\n",
    "Xs, ys = sequences[:,0],sequences[:,1]"
   ]
  },
  {
   "cell_type": "code",
   "execution_count": 8,
   "metadata": {},
   "outputs": [],
   "source": [
    "from keras.utils import to_categorical\n",
    "\n",
    "y = to_categorical(y, num_classes= len(tokenizer.word_index) + 1)"
   ]
  },
  {
   "cell_type": "code",
   "execution_count": 9,
   "metadata": {},
   "outputs": [],
   "source": [
    "import numpy as np\n",
    "\n",
    "X, y = np.asarray(X), np.asarray(y)"
   ]
  },
  {
   "cell_type": "code",
   "execution_count": 10,
   "metadata": {},
   "outputs": [],
   "source": [
    "from keras.models import Sequential\n",
    "from keras.layers import Embedding, LSTM, Dense"
   ]
  },
  {
   "cell_type": "code",
   "execution_count": 15,
   "metadata": {},
   "outputs": [],
   "source": [
    "model = Sequential()\n",
    "model.add(Embedding(len(tokenizer.word_index)+ 1, 10, input_length = 1))\n",
    "model.add(LSTM(50))\n",
    "model.add(Dense(len(tokenizer.word_index) + 1, activation = 'softmax'))"
   ]
  },
  {
   "cell_type": "code",
   "execution_count": 16,
   "metadata": {},
   "outputs": [],
   "source": [
    "model.compile(loss= 'categorical_crossentropy', optimizer = 'adam', metrics = ['accuracy'])"
   ]
  },
  {
   "cell_type": "code",
   "execution_count": 17,
   "metadata": {
    "scrolled": true
   },
   "outputs": [
    {
     "name": "stdout",
     "output_type": "stream",
     "text": [
      "_________________________________________________________________\n",
      "Layer (type)                 Output Shape              Param #   \n",
      "=================================================================\n",
      "embedding_2 (Embedding)      (None, 1, 10)             360       \n",
      "_________________________________________________________________\n",
      "lstm_2 (LSTM)                (None, 50)                12200     \n",
      "_________________________________________________________________\n",
      "dense_2 (Dense)              (None, 36)                1836      \n",
      "=================================================================\n",
      "Total params: 14,396\n",
      "Trainable params: 14,396\n",
      "Non-trainable params: 0\n",
      "_________________________________________________________________\n"
     ]
    }
   ],
   "source": [
    "model.summary()"
   ]
  },
  {
   "cell_type": "code",
   "execution_count": 19,
   "metadata": {},
   "outputs": [
    {
     "name": "stdout",
     "output_type": "stream",
     "text": [
      "Epoch 1/100\n",
      "46/46 [==============================] - 0s 199us/step - loss: 0.4610 - acc: 0.7609\n",
      "Epoch 2/100\n",
      "46/46 [==============================] - 0s 223us/step - loss: 0.4608 - acc: 0.7609\n",
      "Epoch 3/100\n",
      "46/46 [==============================] - 0s 194us/step - loss: 0.4606 - acc: 0.7609\n",
      "Epoch 4/100\n",
      "46/46 [==============================] - 0s 220us/step - loss: 0.4601 - acc: 0.7609\n",
      "Epoch 5/100\n",
      "46/46 [==============================] - 0s 241us/step - loss: 0.4601 - acc: 0.7609\n",
      "Epoch 6/100\n",
      "46/46 [==============================] - 0s 219us/step - loss: 0.4595 - acc: 0.7609\n",
      "Epoch 7/100\n",
      "46/46 [==============================] - 0s 233us/step - loss: 0.4595 - acc: 0.7609\n",
      "Epoch 8/100\n",
      "46/46 [==============================] - 0s 221us/step - loss: 0.4592 - acc: 0.7609\n",
      "Epoch 9/100\n",
      "46/46 [==============================] - 0s 327us/step - loss: 0.4589 - acc: 0.7609\n",
      "Epoch 10/100\n",
      "46/46 [==============================] - 0s 245us/step - loss: 0.4590 - acc: 0.7609\n",
      "Epoch 11/100\n",
      "46/46 [==============================] - 0s 232us/step - loss: 0.4583 - acc: 0.7609\n",
      "Epoch 12/100\n",
      "46/46 [==============================] - 0s 220us/step - loss: 0.4581 - acc: 0.7609\n",
      "Epoch 13/100\n",
      "46/46 [==============================] - 0s 191us/step - loss: 0.4579 - acc: 0.7609\n",
      "Epoch 14/100\n",
      "46/46 [==============================] - 0s 285us/step - loss: 0.4576 - acc: 0.7609\n",
      "Epoch 15/100\n",
      "46/46 [==============================] - 0s 270us/step - loss: 0.4575 - acc: 0.7609\n",
      "Epoch 16/100\n",
      "46/46 [==============================] - 0s 332us/step - loss: 0.4575 - acc: 0.7391\n",
      "Epoch 17/100\n",
      "46/46 [==============================] - 0s 292us/step - loss: 0.4569 - acc: 0.7609\n",
      "Epoch 18/100\n",
      "46/46 [==============================] - 0s 248us/step - loss: 0.4569 - acc: 0.7609\n",
      "Epoch 19/100\n",
      "46/46 [==============================] - 0s 211us/step - loss: 0.4566 - acc: 0.7609\n",
      "Epoch 20/100\n",
      "46/46 [==============================] - 0s 327us/step - loss: 0.4565 - acc: 0.7609\n",
      "Epoch 21/100\n",
      "46/46 [==============================] - 0s 392us/step - loss: 0.4558 - acc: 0.7609\n",
      "Epoch 22/100\n",
      "46/46 [==============================] - 0s 281us/step - loss: 0.4560 - acc: 0.7609\n",
      "Epoch 23/100\n",
      "46/46 [==============================] - 0s 371us/step - loss: 0.4563 - acc: 0.7609\n",
      "Epoch 24/100\n",
      "46/46 [==============================] - 0s 271us/step - loss: 0.4557 - acc: 0.7609\n",
      "Epoch 25/100\n",
      "46/46 [==============================] - 0s 234us/step - loss: 0.4553 - acc: 0.7609\n",
      "Epoch 26/100\n",
      "46/46 [==============================] - 0s 216us/step - loss: 0.4554 - acc: 0.7609\n",
      "Epoch 27/100\n",
      "46/46 [==============================] - 0s 333us/step - loss: 0.4550 - acc: 0.7609\n",
      "Epoch 28/100\n",
      "46/46 [==============================] - 0s 196us/step - loss: 0.4551 - acc: 0.7609\n",
      "Epoch 29/100\n",
      "46/46 [==============================] - 0s 288us/step - loss: 0.4549 - acc: 0.7609\n",
      "Epoch 30/100\n",
      "46/46 [==============================] - 0s 212us/step - loss: 0.4549 - acc: 0.7609\n",
      "Epoch 31/100\n",
      "46/46 [==============================] - 0s 216us/step - loss: 0.4545 - acc: 0.7609\n",
      "Epoch 32/100\n",
      "46/46 [==============================] - 0s 267us/step - loss: 0.4542 - acc: 0.7609\n",
      "Epoch 33/100\n",
      "46/46 [==============================] - 0s 269us/step - loss: 0.4537 - acc: 0.7609\n",
      "Epoch 34/100\n",
      "46/46 [==============================] - 0s 307us/step - loss: 0.4533 - acc: 0.7609\n",
      "Epoch 35/100\n",
      "46/46 [==============================] - 0s 308us/step - loss: 0.4539 - acc: 0.7609\n",
      "Epoch 36/100\n",
      "46/46 [==============================] - 0s 201us/step - loss: 0.4532 - acc: 0.7826\n",
      "Epoch 37/100\n",
      "46/46 [==============================] - 0s 248us/step - loss: 0.4532 - acc: 0.7609\n",
      "Epoch 38/100\n",
      "46/46 [==============================] - 0s 268us/step - loss: 0.4530 - acc: 0.7609\n",
      "Epoch 39/100\n",
      "46/46 [==============================] - 0s 229us/step - loss: 0.4527 - acc: 0.7609\n",
      "Epoch 40/100\n",
      "46/46 [==============================] - 0s 275us/step - loss: 0.4530 - acc: 0.7609\n",
      "Epoch 41/100\n",
      "46/46 [==============================] - 0s 249us/step - loss: 0.4527 - acc: 0.7609\n",
      "Epoch 42/100\n",
      "46/46 [==============================] - 0s 408us/step - loss: 0.4528 - acc: 0.7609\n",
      "Epoch 43/100\n",
      "46/46 [==============================] - 0s 265us/step - loss: 0.4528 - acc: 0.7609\n",
      "Epoch 44/100\n",
      "46/46 [==============================] - 0s 212us/step - loss: 0.4522 - acc: 0.7609\n",
      "Epoch 45/100\n",
      "46/46 [==============================] - 0s 222us/step - loss: 0.4523 - acc: 0.7609\n",
      "Epoch 46/100\n",
      "46/46 [==============================] - 0s 219us/step - loss: 0.4522 - acc: 0.7609\n",
      "Epoch 47/100\n",
      "46/46 [==============================] - 0s 289us/step - loss: 0.4522 - acc: 0.7609\n",
      "Epoch 48/100\n",
      "46/46 [==============================] - 0s 325us/step - loss: 0.4521 - acc: 0.7391\n",
      "Epoch 49/100\n",
      "46/46 [==============================] - 0s 330us/step - loss: 0.4519 - acc: 0.7609\n",
      "Epoch 50/100\n",
      "46/46 [==============================] - 0s 235us/step - loss: 0.4514 - acc: 0.7609\n",
      "Epoch 51/100\n",
      "46/46 [==============================] - 0s 228us/step - loss: 0.4514 - acc: 0.7609\n",
      "Epoch 52/100\n",
      "46/46 [==============================] - 0s 359us/step - loss: 0.4514 - acc: 0.7609\n",
      "Epoch 53/100\n",
      "46/46 [==============================] - 0s 272us/step - loss: 0.4508 - acc: 0.7609\n",
      "Epoch 54/100\n",
      "46/46 [==============================] - 0s 332us/step - loss: 0.4512 - acc: 0.7609\n",
      "Epoch 55/100\n",
      "46/46 [==============================] - 0s 272us/step - loss: 0.4507 - acc: 0.7609\n",
      "Epoch 56/100\n",
      "46/46 [==============================] - 0s 267us/step - loss: 0.4502 - acc: 0.7609\n",
      "Epoch 57/100\n",
      "46/46 [==============================] - 0s 338us/step - loss: 0.4501 - acc: 0.7609\n",
      "Epoch 58/100\n",
      "46/46 [==============================] - 0s 264us/step - loss: 0.4499 - acc: 0.7609\n",
      "Epoch 59/100\n",
      "46/46 [==============================] - 0s 362us/step - loss: 0.4500 - acc: 0.7609\n",
      "Epoch 60/100\n",
      "46/46 [==============================] - 0s 331us/step - loss: 0.4498 - acc: 0.7609\n",
      "Epoch 61/100\n",
      "46/46 [==============================] - 0s 199us/step - loss: 0.4498 - acc: 0.7609\n",
      "Epoch 62/100\n",
      "46/46 [==============================] - 0s 219us/step - loss: 0.4499 - acc: 0.7609\n",
      "Epoch 63/100\n",
      "46/46 [==============================] - 0s 194us/step - loss: 0.4492 - acc: 0.7609\n",
      "Epoch 64/100\n",
      "46/46 [==============================] - 0s 270us/step - loss: 0.4493 - acc: 0.7609\n",
      "Epoch 65/100\n",
      "46/46 [==============================] - 0s 193us/step - loss: 0.4490 - acc: 0.7609\n",
      "Epoch 66/100\n",
      "46/46 [==============================] - 0s 2ms/step - loss: 0.4489 - acc: 0.7609\n",
      "Epoch 67/100\n",
      "46/46 [==============================] - 0s 197us/step - loss: 0.4490 - acc: 0.7609\n",
      "Epoch 68/100\n",
      "46/46 [==============================] - 0s 264us/step - loss: 0.4487 - acc: 0.7609\n",
      "Epoch 69/100\n",
      "46/46 [==============================] - 0s 259us/step - loss: 0.4484 - acc: 0.7609\n",
      "Epoch 70/100\n",
      "46/46 [==============================] - 0s 219us/step - loss: 0.4485 - acc: 0.7174\n",
      "Epoch 71/100\n",
      "46/46 [==============================] - 0s 216us/step - loss: 0.4484 - acc: 0.7391\n",
      "Epoch 72/100\n",
      "46/46 [==============================] - 0s 207us/step - loss: 0.4483 - acc: 0.7609\n",
      "Epoch 73/100\n",
      "46/46 [==============================] - 0s 218us/step - loss: 0.4479 - acc: 0.7391\n",
      "Epoch 74/100\n",
      "46/46 [==============================] - 0s 236us/step - loss: 0.4481 - acc: 0.7609\n",
      "Epoch 75/100\n",
      "46/46 [==============================] - 0s 297us/step - loss: 0.4479 - acc: 0.7609\n",
      "Epoch 76/100\n",
      "46/46 [==============================] - 0s 191us/step - loss: 0.4478 - acc: 0.7609\n",
      "Epoch 77/100\n",
      "46/46 [==============================] - 0s 261us/step - loss: 0.4476 - acc: 0.7609\n",
      "Epoch 78/100\n",
      "46/46 [==============================] - 0s 373us/step - loss: 0.4475 - acc: 0.7609\n",
      "Epoch 79/100\n",
      "46/46 [==============================] - 0s 210us/step - loss: 0.4476 - acc: 0.7609\n",
      "Epoch 80/100\n",
      "46/46 [==============================] - 0s 253us/step - loss: 0.4473 - acc: 0.7609\n",
      "Epoch 81/100\n",
      "46/46 [==============================] - 0s 290us/step - loss: 0.4473 - acc: 0.7609\n",
      "Epoch 82/100\n",
      "46/46 [==============================] - 0s 328us/step - loss: 0.4469 - acc: 0.7609\n",
      "Epoch 83/100\n",
      "46/46 [==============================] - 0s 285us/step - loss: 0.4468 - acc: 0.7609\n",
      "Epoch 84/100\n",
      "46/46 [==============================] - 0s 270us/step - loss: 0.4464 - acc: 0.7826\n",
      "Epoch 85/100\n"
     ]
    },
    {
     "name": "stdout",
     "output_type": "stream",
     "text": [
      "46/46 [==============================] - 0s 238us/step - loss: 0.4466 - acc: 0.7609\n",
      "Epoch 86/100\n",
      "46/46 [==============================] - 0s 339us/step - loss: 0.4465 - acc: 0.7609\n",
      "Epoch 87/100\n",
      "46/46 [==============================] - 0s 260us/step - loss: 0.4463 - acc: 0.7609\n",
      "Epoch 88/100\n",
      "46/46 [==============================] - 0s 317us/step - loss: 0.4462 - acc: 0.7609\n",
      "Epoch 89/100\n",
      "46/46 [==============================] - 0s 277us/step - loss: 0.4459 - acc: 0.7609\n",
      "Epoch 90/100\n",
      "46/46 [==============================] - 0s 278us/step - loss: 0.4462 - acc: 0.7609\n",
      "Epoch 91/100\n",
      "46/46 [==============================] - 0s 283us/step - loss: 0.4458 - acc: 0.7609\n",
      "Epoch 92/100\n",
      "46/46 [==============================] - 0s 178us/step - loss: 0.4461 - acc: 0.7609\n",
      "Epoch 93/100\n",
      "46/46 [==============================] - 0s 256us/step - loss: 0.4459 - acc: 0.7609\n",
      "Epoch 94/100\n",
      "46/46 [==============================] - 0s 311us/step - loss: 0.4455 - acc: 0.7609\n",
      "Epoch 95/100\n",
      "46/46 [==============================] - 0s 357us/step - loss: 0.4454 - acc: 0.7609\n",
      "Epoch 96/100\n",
      "46/46 [==============================] - 0s 217us/step - loss: 0.4453 - acc: 0.7609\n",
      "Epoch 97/100\n",
      "46/46 [==============================] - 0s 284us/step - loss: 0.4453 - acc: 0.7609\n",
      "Epoch 98/100\n",
      "46/46 [==============================] - 0s 243us/step - loss: 0.4449 - acc: 0.7609\n",
      "Epoch 99/100\n",
      "46/46 [==============================] - 0s 244us/step - loss: 0.4447 - acc: 0.7609\n",
      "Epoch 100/100\n",
      "46/46 [==============================] - 0s 280us/step - loss: 0.4447 - acc: 0.7609\n"
     ]
    },
    {
     "data": {
      "text/plain": [
       "<keras.callbacks.History at 0x7fc530f7e550>"
      ]
     },
     "execution_count": 19,
     "metadata": {},
     "output_type": "execute_result"
    }
   ],
   "source": [
    "model.fit(X, y, epochs = 100)"
   ]
  },
  {
   "cell_type": "code",
   "execution_count": 23,
   "metadata": {},
   "outputs": [],
   "source": [
    "def generate_seq(model, tokenizer, seed_text, n_words):\n",
    "    in_text, result = seed_text, seed_text\n",
    "    for _ in range(n_words):\n",
    "        encoded = tokenizer.texts_to_sequences([in_text])[0]\n",
    "        encoded = np.array(encoded)\n",
    "        yhat = model.predict_classes(encoded, verbose=0)\n",
    "        # map predicted word index to word\n",
    "        out_word = ''\n",
    "        for word, index in tokenizer.word_index.items():\n",
    "            if index == yhat:\n",
    "                out_word = word\n",
    "                break\n",
    "        # append to input\n",
    "        in_text, result = out_word, result + ' ' + out_word\n",
    "    return result"
   ]
  },
  {
   "cell_type": "code",
   "execution_count": 30,
   "metadata": {},
   "outputs": [
    {
     "data": {
      "text/plain": [
       "'I made myself a pillow for its head then last night'"
      ]
     },
     "execution_count": 30,
     "metadata": {},
     "output_type": "execute_result"
    }
   ],
   "source": [
    "generate_seq(model, tokenizer, 'I', 10)"
   ]
  },
  {
   "cell_type": "code",
   "execution_count": 31,
   "metadata": {
    "scrolled": true
   },
   "outputs": [
    {
     "data": {
      "text/plain": [
       "'pajamas and let it wet'"
      ]
     },
     "execution_count": 31,
     "metadata": {},
     "output_type": "execute_result"
    }
   ],
   "source": [
    "generate_seq(model, tokenizer, 'pajamas', 4)"
   ]
  }
 ],
 "metadata": {
  "kernelspec": {
   "display_name": "Python 3",
   "language": "python",
   "name": "python3"
  },
  "language_info": {
   "codemirror_mode": {
    "name": "ipython",
    "version": 3
   },
   "file_extension": ".py",
   "mimetype": "text/x-python",
   "name": "python",
   "nbconvert_exporter": "python",
   "pygments_lexer": "ipython3",
   "version": "3.6.7"
  }
 },
 "nbformat": 4,
 "nbformat_minor": 2
}

{
 "cells": [
  {
   "cell_type": "code",
   "execution_count": 1,
   "metadata": {},
   "outputs": [],
   "source": [
    "neg_dir = \"/home/vedic/Downloads/review_polarity/txt_sentoken/neg\"\n",
    "pos_dir = \"/home/vedic/Downloads/review_polarity/txt_sentoken/pos\""
   ]
  },
  {
   "cell_type": "code",
   "execution_count": 2,
   "metadata": {},
   "outputs": [],
   "source": [
    "import nltk\n",
    "import os\n",
    "from nltk.stem.porter import PorterStemmer\n",
    "from collections import Counter"
   ]
  },
  {
   "cell_type": "code",
   "execution_count": 3,
   "metadata": {},
   "outputs": [],
   "source": [
    "neg_rev = []\n",
    "pos_rev = []"
   ]
  },
  {
   "cell_type": "code",
   "execution_count": 4,
   "metadata": {},
   "outputs": [],
   "source": [
    "def read_file(file):\n",
    "    text = open(file, 'r')\n",
    "    text = text.read()\n",
    "    return text"
   ]
  },
  {
   "cell_type": "code",
   "execution_count": 5,
   "metadata": {},
   "outputs": [],
   "source": [
    "for file in os.listdir(neg_dir):\n",
    "    neg_rev.append(read_file(neg_dir + '/' + file))\n",
    "    \n",
    "for file in os.listdir(pos_dir):\n",
    "    pos_rev.append(read_file(pos_dir + '/' + file))"
   ]
  },
  {
   "cell_type": "code",
   "execution_count": 6,
   "metadata": {},
   "outputs": [],
   "source": [
    "import numpy as np\n",
    "neg_rev = np.asarray(neg_rev)\n",
    "pos_rev = np.asarray(pos_rev)"
   ]
  },
  {
   "cell_type": "code",
   "execution_count": 7,
   "metadata": {},
   "outputs": [],
   "source": [
    "import string"
   ]
  },
  {
   "cell_type": "code",
   "execution_count": 8,
   "metadata": {},
   "outputs": [],
   "source": [
    "def clean_text(document):\n",
    "    tokens = document.split()\n",
    "    tokens = [word.lower() for word in tokens]\n",
    "    tokens = [word for word in tokens if word not in string.punctuation]\n",
    "    tokens = [word for word in tokens if word.isalpha()]\n",
    "    stop = set(nltk.corpus.stopwords.words('english'))\n",
    "    tokens = [word for word in tokens if word not in stop]\n",
    "    tokens = [word for word in tokens if len(word) > 1]\n",
    "    stemmer = PorterStemmer()\n",
    "    tokens = [stemmer.stem(word) for word in tokens]\n",
    "    #vocab.update(tokens)\n",
    "    return tokens"
   ]
  },
  {
   "cell_type": "code",
   "execution_count": 9,
   "metadata": {},
   "outputs": [],
   "source": [
    "neg_rev_cleaned = []\n",
    "pos_rev_cleaned = []\n",
    "\n",
    "#vocab = Counter()\n",
    "\n",
    "for i in range(len(neg_rev)):\n",
    "    neg_rev_cleaned.append(clean_text(neg_rev[i]))\n",
    "    \n",
    "for i in range(len(pos_rev)):\n",
    "    pos_rev_cleaned.append(clean_text(pos_rev[i]))"
   ]
  },
  {
   "cell_type": "code",
   "execution_count": 10,
   "metadata": {},
   "outputs": [],
   "source": [
    "import math"
   ]
  },
  {
   "cell_type": "code",
   "execution_count": 11,
   "metadata": {},
   "outputs": [],
   "source": [
    "def TfIdf_Score(word, document, review_list):\n",
    "    \n",
    "    Tf = document.count(word)/len(document)\n",
    "        \n",
    "    apps = 0\n",
    "    for review in review_list:\n",
    "        if word in review:\n",
    "            apps += 1\n",
    "\n",
    "    Idf = math.log(len(review_list)/apps, 10)\n",
    "    \n",
    "    return Tf*Idf"
   ]
  },
  {
   "cell_type": "code",
   "execution_count": 12,
   "metadata": {},
   "outputs": [],
   "source": [
    "from tqdm import tqdm"
   ]
  },
  {
   "cell_type": "code",
   "execution_count": 13,
   "metadata": {},
   "outputs": [
    {
     "name": "stderr",
     "output_type": "stream",
     "text": [
      "100%|██████████| 1000/1000 [15:49<00:00,  1.50it/s]\n"
     ]
    }
   ],
   "source": [
    "for i in tqdm(range(len(neg_rev_cleaned))):\n",
    "    neg_rev_cleaned[i] = [word for word in neg_rev_cleaned[i] if (TfIdf_Score(word, neg_rev_cleaned[i], neg_rev_cleaned) >= 0.01)]"
   ]
  },
  {
   "cell_type": "code",
   "execution_count": 14,
   "metadata": {},
   "outputs": [
    {
     "name": "stderr",
     "output_type": "stream",
     "text": [
      "100%|██████████| 1000/1000 [19:44<00:00,  1.40it/s]\n"
     ]
    }
   ],
   "source": [
    "for i in tqdm(range(len(pos_rev_cleaned))):\n",
    "    pos_rev_cleaned[i] = [word for word in pos_rev_cleaned[i] if (TfIdf_Score(word, pos_rev_cleaned[i], pos_rev_cleaned) >= 0.01)]"
   ]
  },
  {
   "cell_type": "code",
   "execution_count": 17,
   "metadata": {},
   "outputs": [],
   "source": [
    "vocab = Counter()\n",
    "\n",
    "for rev in neg_rev_cleaned + pos_rev_cleaned:\n",
    "    vocab.update(rev)"
   ]
  },
  {
   "cell_type": "code",
   "execution_count": 23,
   "metadata": {},
   "outputs": [],
   "source": [
    "negs = []\n",
    "poss = []\n",
    "for i in range(len(neg_rev)):\n",
    "    negs.append('neg')\n",
    "    \n",
    "for i in range(len(pos_rev)):\n",
    "    poss.append('pos')\n",
    "    \n",
    "negs = np.asarray(negs)\n",
    "poss = np.asarray(poss)"
   ]
  },
  {
   "cell_type": "code",
   "execution_count": 24,
   "metadata": {},
   "outputs": [],
   "source": [
    "neg_rev = np.column_stack((neg_rev, neg_rev_cleaned, negs))\n",
    "pos_rev = np.column_stack((pos_rev, pos_rev_cleaned, poss))"
   ]
  },
  {
   "cell_type": "code",
   "execution_count": 25,
   "metadata": {},
   "outputs": [],
   "source": [
    "reviews = np.append(neg_rev, pos_rev, axis=0)"
   ]
  },
  {
   "cell_type": "code",
   "execution_count": 26,
   "metadata": {},
   "outputs": [],
   "source": [
    "np.random.shuffle(reviews)"
   ]
  },
  {
   "cell_type": "code",
   "execution_count": 27,
   "metadata": {},
   "outputs": [],
   "source": [
    "import pickle\n",
    "\n",
    "pickle.dump(reviews, open('clean_reviews.pickle', 'wb'))\n",
    "pickle.dump(vocab, open('vocabulary.pickle', 'wb'))"
   ]
  },
  {
   "cell_type": "code",
   "execution_count": 28,
   "metadata": {},
   "outputs": [],
   "source": [
    "file = open('clean_reviews.pickle', \"rb\")\n",
    "review = pickle.load(file)"
   ]
  }
 ],
 "metadata": {
  "kernelspec": {
   "display_name": "Python 3",
   "language": "python",
   "name": "python3"
  },
  "language_info": {
   "codemirror_mode": {
    "name": "ipython",
    "version": 3
   },
   "file_extension": ".py",
   "mimetype": "text/x-python",
   "name": "python",
   "nbconvert_exporter": "python",
   "pygments_lexer": "ipython3",
   "version": "3.6.7"
  }
 },
 "nbformat": 4,
 "nbformat_minor": 2
}
